{
 "cells": [
  {
   "cell_type": "markdown",
   "metadata": {},
   "source": [
    "# Sampling Methods"
   ]
  },
  {
   "cell_type": "markdown",
   "metadata": {},
   "source": [
    "* **Sampling** is a *process used in statistical analysis in which a predetermined number of observations are taken from a larger population.*\n",
    "\n",
    "---\n",
    "\n",
    "## Simple Random Sampling\n",
    "* **Simple random sampling** is the *basic sampling technique where we select a group of subjects (a sample) for study from a larger group (a population).* Each individual is chosen entirely by chance and each member of the population has an equal chance of being included in the sample. Every possible sample of a given size has the same chance of selection. \n",
    "\n",
    "![Simple random sampling of a sample “n” of 3 from a population “N” of 12. Image: Dan Kernler |Wikimedia Commons](https://www.statisticshowto.datasciencecentral.com/wp-content/uploads/2014/12/Simple_random_sampling-300x231.png)\n",
    "*Simple random sampling of a sample “n” of 3 from a population “N” of 12. Image: Dan Kernler |Wikimedia Commons*\n",
    "\n",
    "* Technically, a simple random sample is a set of n objects in a population of N objects where all possible samples are equally likely to happen. Here’s a basic example of how to get a simple random sample: put 100 numbered bingo balls into a bowl (this is the population N). Select 10 balls from the bowl without looking (this is your sample n). Note that it’s important not to look as you could (unknowingly) bias the sample. While the “lottery bowl” method can work fine for smaller populations, in reality you’ll be dealing with much larger populations.\n",
    "\n",
    "![](https://research-methodology.net/wp-content/uploads/2015/04/Simple-random-sampling2.png)"
   ]
  },
  {
   "cell_type": "code",
   "execution_count": 2,
   "metadata": {},
   "outputs": [],
   "source": [
    "import pandas as pd\n",
    "import numpy as np\n",
    "df = pd.DataFrame(np.random.randn(5000, 4), columns=list('ABCD'))"
   ]
  },
  {
   "cell_type": "code",
   "execution_count": 4,
   "metadata": {},
   "outputs": [],
   "source": [
    "sample_df = df.sample(100)"
   ]
  },
  {
   "cell_type": "code",
   "execution_count": 6,
   "metadata": {},
   "outputs": [
    {
     "data": {
      "text/plain": [
       "(100, 4)"
      ]
     },
     "execution_count": 6,
     "metadata": {},
     "output_type": "execute_result"
    }
   ],
   "source": [
    "sample_df.shape"
   ]
  },
  {
   "cell_type": "markdown",
   "metadata": {},
   "source": [
    "## Stratified Sampling\n",
    "\n",
    "---\n",
    "\n",
    "* **Stratified random sampling** is a method of sampling that *involves the division of a population into smaller sub-groups known* as **strata** In stratified random sampling or stratification, the strata are formed based on members' shared attributes or characteristics such as income or educational attainment.\n",
    "\n",
    "* **Stratified random sampling** is also called *proportional random sampling or quota random sampling.*\n",
    "\n",
    "![](https://image.slidesharecdn.com/sampling-stratifiedvscluster-170115160432/95/sampling-stratified-vs-cluster-2-638.jpg?cb=1484496290)\n",
    "\n",
    "##### Assume that we need to estimate the average number of votes for each candidate in an election. Assume that the country has 3 towns:\n",
    "* Town A has 1 million factory workers,\n",
    "* Town B has 2 million workers, and\n",
    "* Town C has 3 million retirees.\n",
    "* We can choose to get a random sample of size 60 over the entire population but there is some chance that the random sample turns out to be not well balanced across these towns and hence is biased causing a significant error in estimation.\n",
    "* Instead, if we choose to take a random sample of 10, 20 and 30 from Town A, B and C respectively then we can produce a smaller error in estimation for the same total size of the sample."
   ]
  },
  {
   "cell_type": "markdown",
   "metadata": {},
   "source": [
    "### Method"
   ]
  },
  {
   "cell_type": "code",
   "execution_count": 18,
   "metadata": {},
   "outputs": [],
   "source": [
    "from sklearn.model_selection import train_test_split\n",
    "X_train, X_test, y_train, y_test = train_test_split(X, y,\n",
    "                                                    stratify=y, ## we need one categorical variable for that\n",
    "                                                    test_size=0.25)"
   ]
  },
  {
   "cell_type": "markdown",
   "metadata": {},
   "source": [
    "## Reservoir Sampling\n",
    "\n",
    "---\n",
    "![](https://kapilddatascience.files.wordpress.com/2015/06/reservoir.jpg)\n",
    "\n",
    "* **Reservoir sampling** is a *family of randomized algorithms for randomly choosing k samples from a list of n items, where n is either a very large or unknown number.* Typically n is large enough that the list doesn’t fit into main memory. For example, a list of search queries in Google and Facebook.\n",
    "\n",
    "![](https://image.slidesharecdn.com/t10part1-141208215154-conversion-gate02/95/sampling-for-big-data-1-21-638.jpg?cb=1418075560)\n"
   ]
  },
  {
   "cell_type": "code",
   "execution_count": 21,
   "metadata": {},
   "outputs": [
    {
     "name": "stdout",
     "output_type": "stream",
     "text": [
      "[6859, 7151, 2308, 4500, 4533]\n"
     ]
    }
   ],
   "source": [
    "import random\n",
    "def generator(max):\n",
    "    number = 1\n",
    "    while number < max:\n",
    "        number += 1\n",
    "        yield number\n",
    "# Create as stream generator\n",
    "stream = generator(10000)\n",
    "# Doing Reservoir Sampling from the stream\n",
    "k=5\n",
    "reservoir = []\n",
    "for i, element in enumerate(stream):\n",
    "    if i+1<= k:\n",
    "        reservoir.append(element)\n",
    "    else:\n",
    "        probability = k/(i+1)\n",
    "        if random.random() < probability:\n",
    "            # Select item in stream and remove one of the k items already selected\n",
    "             reservoir[random.choice(range(0,k))] = element\n",
    "print(reservoir)"
   ]
  },
  {
   "cell_type": "markdown",
   "metadata": {},
   "source": [
    "It can be mathematically proved that in the sample each element has the same probability of getting selected from the stream."
   ]
  },
  {
   "cell_type": "markdown",
   "metadata": {},
   "source": [
    "## Random Undersampling and Oversampling\n",
    "\n",
    "---\n",
    "\n",
    "![](https://miro.medium.com/max/700/0*u6pKLqdCDsG_5kXa.png)\n",
    "\n",
    "* A widely adopted technique for dealing with highly imbalanced datasets is called resampling. It consists of *removing samples from the majority class* (**under-sampling**) and/or *adding more examples from the minority class* (**over-sampling**)."
   ]
  },
  {
   "cell_type": "code",
   "execution_count": 34,
   "metadata": {},
   "outputs": [],
   "source": [
    "from sklearn.datasets import make_classification\n",
    "X, y = make_classification(\n",
    "    n_classes=2, class_sep=1.5, weights=[0.9, 0.1],\n",
    "    n_informative=3, n_redundant=1, flip_y=0,\n",
    "    n_features=20, n_clusters_per_class=1,\n",
    "    n_samples=100, random_state=10\n",
    ")\n",
    "X = pd.DataFrame(X)\n",
    "X['target'] = y"
   ]
  },
  {
   "cell_type": "markdown",
   "metadata": {},
   "source": [
    "We can now do random oversampling and undersampling using:"
   ]
  },
  {
   "cell_type": "code",
   "execution_count": 35,
   "metadata": {},
   "outputs": [
    {
     "name": "stdout",
     "output_type": "stream",
     "text": [
      "90 10\n",
      "20\n",
      "180\n"
     ]
    }
   ],
   "source": [
    "num_0 = len(X[X['target']==0])\n",
    "num_1 = len(X[X['target']==1])\n",
    "print(num_0,num_1)\n",
    "# random undersample\n",
    "undersampled_data = pd.concat([ X[X['target']==0].sample(num_1) , X[X['target']==1] ])\n",
    "print(len(undersampled_data))\n",
    "# random oversample\n",
    "oversampled_data = pd.concat([ X[X['target']==0] , X[X['target']==1].sample(num_0, replace=True) ])\n",
    "print(len(oversampled_data))"
   ]
  },
  {
   "cell_type": "markdown",
   "metadata": {},
   "source": [
    "## Undersampling and Oversampling using imbalanced-learn\n",
    "\n",
    "* imbalanced-learn(imblearn) is a Python Package to tackle the curse of imbalanced datasets.\n",
    "It provides a variety of methods to undersample and oversample.\n",
    "\n",
    "#### A. Undersampling using Tomek Links:  \n",
    "One of such methods it provides is called Tomek Links. Tomek links are pairs of examples of opposite classes in close vicinity.\n",
    "In this algorithm, we end up removing the majority element from the Tomek link which provides a better decision boundary for a classifier.\n",
    "\n",
    "![](https://miro.medium.com/max/700/0*huy_9J15wzYJ2o5S)"
   ]
  },
  {
   "cell_type": "code",
   "execution_count": 37,
   "metadata": {},
   "outputs": [
    {
     "name": "stderr",
     "output_type": "stream",
     "text": [
      "Using TensorFlow backend.\n"
     ]
    }
   ],
   "source": [
    "from imblearn.under_sampling import TomekLinks\n",
    "\n",
    "tl = TomekLinks(return_indices=True, ratio='majority')\n",
    "X_tl, y_tl, id_tl = tl.fit_sample(X, y)"
   ]
  },
  {
   "cell_type": "markdown",
   "metadata": {},
   "source": [
    "#### B. Oversampling using SMOTE:\n",
    "\n",
    "In SMOTE (Synthetic Minority Oversampling Technique) we synthesize elements for the minority class, in the vicinity of already existing elements.\n",
    "\n",
    "![](https://miro.medium.com/max/700/0*UrGYcz_Ab-HTo4-B.png)"
   ]
  },
  {
   "cell_type": "code",
   "execution_count": 41,
   "metadata": {},
   "outputs": [],
   "source": [
    "from imblearn.over_sampling import SMOTE\n",
    "\n",
    "smote = SMOTE(ratio='minority')\n",
    "X_sm, y_sm = smote.fit_sample(X, y)"
   ]
  },
  {
   "cell_type": "markdown",
   "metadata": {},
   "source": [
    "#### There are a variety of other methods in the imblearn package for both undersampling(Cluster Centroids, NearMiss, etc.) and oversampling(ADASYN and bSMOTE) that you can check out.\n",
    "\n",
    "* For more about [imblearn](https://imbalanced-learn.readthedocs.io/en/stable/index.html)"
   ]
  }
 ],
 "metadata": {
  "kernelspec": {
   "display_name": "Python 3",
   "language": "python",
   "name": "python3"
  },
  "language_info": {
   "codemirror_mode": {
    "name": "ipython",
    "version": 3
   },
   "file_extension": ".py",
   "mimetype": "text/x-python",
   "name": "python",
   "nbconvert_exporter": "python",
   "pygments_lexer": "ipython3",
   "version": "3.6.8"
  }
 },
 "nbformat": 4,
 "nbformat_minor": 2
}
